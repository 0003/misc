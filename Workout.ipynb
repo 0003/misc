{
 "cells": [
  {
   "cell_type": "code",
   "execution_count": 47,
   "metadata": {
    "collapsed": true
   },
   "outputs": [],
   "source": [
    "import csv"
   ]
  },
  {
   "cell_type": "code",
   "execution_count": 48,
   "metadata": {
    "collapsed": false
   },
   "outputs": [],
   "source": [
    "age=31                #years\n",
    "weight =150           #lbs\n",
    "heart_rate=120        #bpm\n",
    "time=     0.5            #minutes"
   ]
  },
  {
   "cell_type": "code",
   "execution_count": null,
   "metadata": {
    "collapsed": true
   },
   "outputs": [],
   "source": []
  },
  {
   "cell_type": "code",
   "execution_count": 49,
   "metadata": {
    "collapsed": true
   },
   "outputs": [],
   "source": [
    "#sets list of sets: Set ID, heart_rate, time\n",
    "sets = [ \n",
    "         [1,120,0.5],\n",
    "         [2,148,0.5]\n",
    "       ]"
   ]
  },
  {
   "cell_type": "code",
   "execution_count": 56,
   "metadata": {
    "collapsed": false
   },
   "outputs": [],
   "source": [
    "def calories_burned(age=age, weight=weight, heart_rate=heart_rate, time=time):\n",
    "    return ( (age * 0.2017) - (weight * 0.09036) + (heart_rate * 0.6309) - 55.0969) * time / 4.184\n",
    "\n",
    "def program(sets=sets):\n",
    "    calories_burned_in_sets = []\n",
    "    for set in sets:\n",
    "        calories_burned_in_sets.append(calories_burned(heart_rate=set[1],time=set[2]))\n",
    "    return calories_burned_in_sets\n",
    "\n",
    "def read_sets(file_name):\n",
    "    sets=[]\n",
    "    with open(file_name,'rb') as csvfile:\n",
    "        for row in csv.reader(csvfile):\n",
    "            sets.append([float(n) for n in row])\n",
    "        return sets\n",
    "      \n",
    "###########\n",
    "def helper_program():\n",
    "    return program(sets=read_sets('sets.csv'))\n",
    "\n",
    "        "
   ]
  },
  {
   "cell_type": "code",
   "execution_count": 60,
   "metadata": {
    "collapsed": false
   },
   "outputs": [
    {
     "name": "stdout",
     "output_type": "stream",
     "text": [
      "[[1.0, 140.0, 0.5], [2.0, 160.0, 0.75], [3.0, 185.0, 0.5], [4.0, 185.0, 0.5], [5.0, 195.0, 0.75], [6.0, 200.0, 1.0], [7.0, 200.0, 1.0], [8.0, 185.0, 0.75], [9.0, 190.0, 0.5], [10.0, 190.0, 0.5]]\n"
     ]
    }
   ],
   "source": [
    "a = helper_program()"
   ]
  },
  {
   "cell_type": "code",
   "execution_count": 63,
   "metadata": {
    "collapsed": false
   },
   "outputs": [
    {
     "data": {
      "text/plain": [
       "87.8195865200765"
      ]
     },
     "execution_count": 63,
     "metadata": {},
     "output_type": "execute_result"
    }
   ],
   "source": [
    "sum(a)"
   ]
  },
  {
   "cell_type": "code",
   "execution_count": null,
   "metadata": {
    "collapsed": true
   },
   "outputs": [],
   "source": []
  }
 ],
 "metadata": {
  "kernelspec": {
   "display_name": "Python [Root]",
   "language": "python",
   "name": "Python [Root]"
  },
  "language_info": {
   "codemirror_mode": {
    "name": "ipython",
    "version": 2
   },
   "file_extension": ".py",
   "mimetype": "text/x-python",
   "name": "python",
   "nbconvert_exporter": "python",
   "pygments_lexer": "ipython2",
   "version": "2.7.12"
  }
 },
 "nbformat": 4,
 "nbformat_minor": 0
}
